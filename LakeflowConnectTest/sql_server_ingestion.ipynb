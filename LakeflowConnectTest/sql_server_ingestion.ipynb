{
 "cells": [
  {
   "cell_type": "code",
   "execution_count": 0,
   "metadata": {
    "application/vnd.databricks.v1+cell": {
     "cellMetadata": {},
     "inputWidgets": {},
     "nuid": "345b5caf-ade7-4f19-8f52-7139347d6dc8",
     "showTitle": false,
     "tableResultSettingsMap": {},
     "title": ""
    }
   },
   "outputs": [],
   "source": [
    "import dlt\n",
    "from pyspark.sql.functions import col, udf\n",
    "from pyspark.sql.types import FloatType\n",
    "\n",
    "\n",
    "# This file defines a sample transformation.\n",
    "#\n",
    "# Prefer to use SQL? See https://docs.databricks.com/dlt/tutorial-pipelines\n",
    "# for a reference with examples.\n",
    "\n",
    "\n",
    "@udf(returnType=FloatType())\n",
    "def distance_km(distance_miles):\n",
    "    \"\"\"Convert distance from miles to kilometers (1 mile = 1.60934 km).\"\"\"\n",
    "    return distance_miles * 1.60934\n",
    "\n",
    "@dlt.table\n",
    "def sample_trips_may_aug_6_2244():\n",
    "    return (\n",
    "        spark.read.table(\"samples.nyctaxi.trips\")\n",
    "        .withColumn(\"trip_distance_km\", distance_km(col(\"trip_distance\")))\n",
    "    )"
   ]
  },
  {
   "cell_type": "code",
   "execution_count": 0,
   "metadata": {
    "application/vnd.databricks.v1+cell": {
     "cellMetadata": {},
     "inputWidgets": {},
     "nuid": "47707b82-2e55-4067-aef2-654bd63e8d8e",
     "showTitle": false,
     "tableResultSettingsMap": {},
     "title": ""
    }
   },
   "outputs": [],
   "source": []
  }
 ],
 "metadata": {
  "application/vnd.databricks.v1+notebook": {
   "computePreferences": null,
   "dashboards": [],
   "environmentMetadata": {
    "base_environment": "",
    "environment_version": "2"
   },
   "inputWidgetPreferences": null,
   "language": "python",
   "notebookMetadata": {},
   "notebookName": "sql_server_ingestion",
   "widgets": {}
  },
  "language_info": {
   "name": "python"
  }
 },
 "nbformat": 4,
 "nbformat_minor": 0
}
